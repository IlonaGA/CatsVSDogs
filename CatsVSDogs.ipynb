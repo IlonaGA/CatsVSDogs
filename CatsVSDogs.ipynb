{
 "cells": [
  {
   "cell_type": "code",
   "execution_count": 1,
   "metadata": {},
   "outputs": [],
   "source": [
    "import numpy as np\n",
    "import pandas as pd\n",
    "import os"
   ]
  },
  {
   "cell_type": "code",
   "execution_count": 17,
   "metadata": {},
   "outputs": [
    {
     "data": {
      "text/html": [
       "<div>\n",
       "<style scoped>\n",
       "    .dataframe tbody tr th:only-of-type {\n",
       "        vertical-align: middle;\n",
       "    }\n",
       "\n",
       "    .dataframe tbody tr th {\n",
       "        vertical-align: top;\n",
       "    }\n",
       "\n",
       "    .dataframe thead th {\n",
       "        text-align: right;\n",
       "    }\n",
       "</style>\n",
       "<table border=\"1\" class=\"dataframe\">\n",
       "  <thead>\n",
       "    <tr style=\"text-align: right;\">\n",
       "      <th></th>\n",
       "      <th>image_path</th>\n",
       "      <th>class</th>\n",
       "    </tr>\n",
       "  </thead>\n",
       "  <tbody>\n",
       "    <tr>\n",
       "      <th>0</th>\n",
       "      <td>/Users/alexgorbonos/Documents/HSE_informatica/...</td>\n",
       "      <td>cat</td>\n",
       "    </tr>\n",
       "    <tr>\n",
       "      <th>1</th>\n",
       "      <td>/Users/alexgorbonos/Documents/HSE_informatica/...</td>\n",
       "      <td>cat</td>\n",
       "    </tr>\n",
       "    <tr>\n",
       "      <th>2</th>\n",
       "      <td>/Users/alexgorbonos/Documents/HSE_informatica/...</td>\n",
       "      <td>cat</td>\n",
       "    </tr>\n",
       "    <tr>\n",
       "      <th>3</th>\n",
       "      <td>/Users/alexgorbonos/Documents/HSE_informatica/...</td>\n",
       "      <td>cat</td>\n",
       "    </tr>\n",
       "    <tr>\n",
       "      <th>4</th>\n",
       "      <td>/Users/alexgorbonos/Documents/HSE_informatica/...</td>\n",
       "      <td>cat</td>\n",
       "    </tr>\n",
       "  </tbody>\n",
       "</table>\n",
       "</div>"
      ],
      "text/plain": [
       "                                          image_path class\n",
       "0  /Users/alexgorbonos/Documents/HSE_informatica/...   cat\n",
       "1  /Users/alexgorbonos/Documents/HSE_informatica/...   cat\n",
       "2  /Users/alexgorbonos/Documents/HSE_informatica/...   cat\n",
       "3  /Users/alexgorbonos/Documents/HSE_informatica/...   cat\n",
       "4  /Users/alexgorbonos/Documents/HSE_informatica/...   cat"
      ]
     },
     "execution_count": 17,
     "metadata": {},
     "output_type": "execute_result"
    }
   ],
   "source": [
    "images_path_cat = [os.path.abspath('dataset/training_set/cats/' + name) for name in os.listdir('dataset/training_set/cats')]\n",
    "cats_label = ['cat']*len(images_path_cat)\n",
    "\n",
    "images_path_dog = [os.path.abspath('dataset/training_set/dogs/' + name) for name in os.listdir('dataset/training_set/dogs')]\n",
    "dogs_label = ['dog']*len(images_path_dog)\n",
    "\n",
    "matrix = np.asarray ([images_path_cat + images_path_dog, cats_label + dogs_label]).T\n",
    "\n",
    "data = pd.DataFrame (matrix, columns=['image_path', 'class'])\n",
    "data.head ()"
   ]
  },
  {
   "cell_type": "code",
   "execution_count": 5,
   "metadata": {},
   "outputs": [],
   "source": [
    "from ludwig.api import LudwigModel\n",
    "\n",
    "# train a model\n",
    "model_definition = {'input_features': [{'name': 'image_path', 'type': 'image', \n",
    "                                        'preprocessing':{'height': 128, 'width': 128, \n",
    "                                        'resize_method': 'interpolate', 'scaling': 'pixel_normalization'}}], \\\n",
    "                    'output_features': [{'name': 'class', 'type': 'category'}]}\n",
    "model = LudwigModel(model_definition)"
   ]
  },
  {
   "cell_type": "code",
   "execution_count": 6,
   "metadata": {},
   "outputs": [
    {
     "name": "stdout",
     "output_type": "stream",
     "text": [
      "WARNING:tensorflow:From /Users/alexgorbonos/anaconda3/lib/python3.7/site-packages/ludwig/models/modules/convolutional_modules.py:74: dropout (from tensorflow.python.layers.core) is deprecated and will be removed in a future version.\n",
      "Instructions for updating:\n",
      "Use keras.layers.dropout instead.\n",
      "WARNING:tensorflow:From /Users/alexgorbonos/anaconda3/lib/python3.7/site-packages/tensorflow_core/python/layers/core.py:271: Layer.apply (from tensorflow.python.keras.engine.base_layer) is deprecated and will be removed in a future version.\n",
      "Instructions for updating:\n",
      "Please use `layer.__call__` method instead.\n",
      "WARNING:tensorflow:From /Users/alexgorbonos/anaconda3/lib/python3.7/site-packages/ludwig/models/modules/convolutional_modules.py:585: The name tf.nn.max_pool is deprecated. Please use tf.nn.max_pool2d instead.\n",
      "\n"
     ]
    }
   ],
   "source": [
    "train_stats = model.train(data)"
   ]
  },
  {
   "cell_type": "code",
   "execution_count": 31,
   "metadata": {},
   "outputs": [
    {
     "data": {
      "text/html": [
       "<div>\n",
       "<style scoped>\n",
       "    .dataframe tbody tr th:only-of-type {\n",
       "        vertical-align: middle;\n",
       "    }\n",
       "\n",
       "    .dataframe tbody tr th {\n",
       "        vertical-align: top;\n",
       "    }\n",
       "\n",
       "    .dataframe thead th {\n",
       "        text-align: right;\n",
       "    }\n",
       "</style>\n",
       "<table border=\"1\" class=\"dataframe\">\n",
       "  <thead>\n",
       "    <tr style=\"text-align: right;\">\n",
       "      <th></th>\n",
       "      <th>image_path</th>\n",
       "      <th>class</th>\n",
       "    </tr>\n",
       "  </thead>\n",
       "  <tbody>\n",
       "    <tr>\n",
       "      <th>0</th>\n",
       "      <td>/Users/alexgorbonos/Documents/HSE_informatica/...</td>\n",
       "      <td>cat</td>\n",
       "    </tr>\n",
       "    <tr>\n",
       "      <th>1</th>\n",
       "      <td>/Users/alexgorbonos/Documents/HSE_informatica/...</td>\n",
       "      <td>cat</td>\n",
       "    </tr>\n",
       "    <tr>\n",
       "      <th>2</th>\n",
       "      <td>/Users/alexgorbonos/Documents/HSE_informatica/...</td>\n",
       "      <td>cat</td>\n",
       "    </tr>\n",
       "    <tr>\n",
       "      <th>3</th>\n",
       "      <td>/Users/alexgorbonos/Documents/HSE_informatica/...</td>\n",
       "      <td>cat</td>\n",
       "    </tr>\n",
       "    <tr>\n",
       "      <th>4</th>\n",
       "      <td>/Users/alexgorbonos/Documents/HSE_informatica/...</td>\n",
       "      <td>cat</td>\n",
       "    </tr>\n",
       "  </tbody>\n",
       "</table>\n",
       "</div>"
      ],
      "text/plain": [
       "                                          image_path class\n",
       "0  /Users/alexgorbonos/Documents/HSE_informatica/...   cat\n",
       "1  /Users/alexgorbonos/Documents/HSE_informatica/...   cat\n",
       "2  /Users/alexgorbonos/Documents/HSE_informatica/...   cat\n",
       "3  /Users/alexgorbonos/Documents/HSE_informatica/...   cat\n",
       "4  /Users/alexgorbonos/Documents/HSE_informatica/...   cat"
      ]
     },
     "execution_count": 31,
     "metadata": {},
     "output_type": "execute_result"
    }
   ],
   "source": [
    "test_cat = [os.path.abspath('dataset/test_set/cats/' + name) for name in os.listdir('dataset/test_set/cats')]\n",
    "cats_label2 = ['cat']*len(test_cat)\n",
    "\n",
    "test_dog = [os.path.abspath('dataset/test_set/dogs/' + name) for name in os.listdir('dataset/test_set/dogs')]\n",
    "dogs_label2 = ['dog']*len(test_dog)\n",
    "\n",
    "matrix2 = np.asarray ([test_cat + test_dog, cats_label2 + dogs_label2]).T\n",
    "\n",
    "data2 = pd.DataFrame (matrix2, columns=['image_path', 'class'])\n",
    "data2.head ()"
   ]
  },
  {
   "cell_type": "code",
   "execution_count": 33,
   "metadata": {},
   "outputs": [],
   "source": [
    "prediction = model.predict (data2)"
   ]
  },
  {
   "cell_type": "code",
   "execution_count": 36,
   "metadata": {},
   "outputs": [
    {
     "data": {
      "text/plain": [
       "0.6395"
      ]
     },
     "execution_count": 36,
     "metadata": {},
     "output_type": "execute_result"
    }
   ],
   "source": [
    "#Вероятность, с которой угадывает\n",
    "np.sum (prediction ['class_predictions'] == data2['class']) / data2.shape[0]"
   ]
  },
  {
   "cell_type": "code",
   "execution_count": 43,
   "metadata": {},
   "outputs": [
    {
     "data": {
      "text/plain": [
       "0        True\n",
       "1        True\n",
       "2        True\n",
       "3       False\n",
       "4        True\n",
       "        ...  \n",
       "1995    False\n",
       "1996     True\n",
       "1997    False\n",
       "1998    False\n",
       "1999     True\n",
       "Length: 2000, dtype: bool"
      ]
     },
     "execution_count": 43,
     "metadata": {},
     "output_type": "execute_result"
    }
   ],
   "source": [
    "#Смотрим на предсказания\n",
    "prediction ['class_predictions'] == data2['class']"
   ]
  },
  {
   "cell_type": "code",
   "execution_count": 46,
   "metadata": {},
   "outputs": [
    {
     "data": {
      "text/plain": [
       "(8000, 2)"
      ]
     },
     "execution_count": 46,
     "metadata": {},
     "output_type": "execute_result"
    }
   ],
   "source": [
    "data.shape"
   ]
  },
  {
   "cell_type": "code",
   "execution_count": null,
   "metadata": {},
   "outputs": [],
   "source": []
  }
 ],
 "metadata": {
  "kernelspec": {
   "display_name": "Python 3",
   "language": "python",
   "name": "python3"
  },
  "language_info": {
   "codemirror_mode": {
    "name": "ipython",
    "version": 3
   },
   "file_extension": ".py",
   "mimetype": "text/x-python",
   "name": "python",
   "nbconvert_exporter": "python",
   "pygments_lexer": "ipython3",
   "version": "3.7.6"
  }
 },
 "nbformat": 4,
 "nbformat_minor": 2
}
